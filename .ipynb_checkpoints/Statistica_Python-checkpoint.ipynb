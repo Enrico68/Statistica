{
 "cells": [
  {
   "cell_type": "code",
   "execution_count": 4,
   "metadata": {
    "collapsed": false,
    "jupyter": {
     "outputs_hidden": false
    },
    "tags": []
   },
   "outputs": [],
   "source": [
    "%load_ext ipython_gpt"
   ]
  },
  {
   "cell_type": "code",
   "execution_count": 5,
   "metadata": {
    "collapsed": false,
    "jupyter": {
     "outputs_hidden": false
    },
    "tags": []
   },
   "outputs": [
    {
     "name": "stdout",
     "output_type": "stream",
     "text": [
      "Hello! How can I assist you today?\n"
     ]
    }
   ],
   "source": [
    "%%chat\n",
    "Hello world"
   ]
  },
  {
   "cell_type": "code",
   "execution_count": 6,
   "metadata": {
    "collapsed": false,
    "jupyter": {
     "outputs_hidden": false
    }
   },
   "outputs": [
    {
     "name": "stdout",
     "output_type": "stream",
     "text": [
      "Sure! In SPSS, the \"RECODE\" function is commonly used to create new variables based on conditions. In Python, you can achieve similar functionality using the Pandas library.\n",
      "\n",
      "Here is an example of how you can create a new variable with labels based on conditions using Pandas in Python:\n",
      "\n",
      "```python\n",
      "import pandas as pd\n",
      "\n",
      "# Create a sample dataframe\n",
      "data = {'value': [1, 2, 3, 4, 5]}\n",
      "df = pd.DataFrame(data)\n",
      "\n",
      "# Create a function to define the labels\n",
      "def label_value(x):\n",
      "    if x < 3:\n",
      "        return 'Low'\n",
      "    elif x < 5:\n",
      "        return 'Medium'\n",
      "    else:\n",
      "        return 'High'\n",
      "\n",
      "# Apply the function to create a new column 'label'\n",
      "df['label'] = df['value'].apply(label_value)\n",
      "\n",
      "print(df)\n",
      "```\n",
      "\n",
      "In this example, we first create a sample dataframe with a 'value' column. Then, we define a function `label_value` that assigns labels 'Low', 'Medium', or 'High' based on the value of the 'value' column. Finally, we use the `apply` method to create a new column 'label' in the dataframe with the calculated labels.\n",
      "\n",
      "You can modify the `label_value` function to define your own conditions and labels based on your specific requirements. Let me know if you need further assistance!\n"
     ]
    }
   ],
   "source": [
    "%%chat\n",
    "I need to get the same label function of the program SPSS in python \n",
    "can you show me "
   ]
  },
  {
   "cell_type": "code",
   "execution_count": 7,
   "metadata": {
    "collapsed": false,
    "jupyter": {
     "outputs_hidden": false
    }
   },
   "outputs": [
    {
     "name": "stdout",
     "output_type": "stream",
     "text": [
      "   value   label\n",
      "0      1     Low\n",
      "1      2     Low\n",
      "2      3  Medium\n",
      "3      4  Medium\n",
      "4      5    High\n"
     ]
    }
   ],
   "source": [
    "import pandas as pd\n",
    "\n",
    "# Create a sample dataframe\n",
    "data = {'value': [1, 2, 3, 4, 5]}\n",
    "df = pd.DataFrame(data)\n",
    "\n",
    "# Create a function to define the labels\n",
    "def label_value(x):\n",
    "    if x < 3:\n",
    "        return 'Low'\n",
    "    elif x < 5:\n",
    "        return 'Medium'\n",
    "    else:\n",
    "        return 'High'\n",
    "\n",
    "# Apply the function to create a new column 'label'\n",
    "df['label'] = df['value'].apply(label_value)\n",
    "\n",
    "print(df)"
   ]
  },
  {
   "cell_type": "code",
   "execution_count": 5,
   "metadata": {
    "collapsed": false,
    "jupyter": {
     "outputs_hidden": false
    }
   },
   "outputs": [],
   "source": [
    "data = {'age': [25, 30, 35, 40],\n",
    "        'gender': ['Male', 'Female', 'Male', 'Female']}\n",
    "df = pd.DataFrame(data)\n",
    "\n",
    "# Create a dictionary with variable labels\n",
    "variable_labels = {'age': 'Age in years',\n",
    "                   'gender': 'Gender'}\n",
    "\n",
    "# Assign the variable labels to the DataFrame\n",
    "df.rename(columns=variable_labels, inplace=True)"
   ]
  },
  {
   "cell_type": "code",
   "execution_count": 6,
   "metadata": {
    "collapsed": false,
    "jupyter": {
     "outputs_hidden": false
    }
   },
   "outputs": [
    {
     "name": "stdout",
     "output_type": "stream",
     "text": [
      "   Age in years  Gender\n",
      "0            25    Male\n",
      "1            30  Female\n",
      "2            35    Male\n",
      "3            40  Female\n"
     ]
    }
   ],
   "source": [
    "print(df)"
   ]
  },
  {
   "cell_type": "code",
   "execution_count": 8,
   "metadata": {
    "collapsed": false,
    "jupyter": {
     "outputs_hidden": false
    }
   },
   "outputs": [
    {
     "data": {
      "text/html": [
       "<div>\n",
       "<style scoped>\n",
       "    .dataframe tbody tr th:only-of-type {\n",
       "        vertical-align: middle;\n",
       "    }\n",
       "\n",
       "    .dataframe tbody tr th {\n",
       "        vertical-align: top;\n",
       "    }\n",
       "\n",
       "    .dataframe thead th {\n",
       "        text-align: right;\n",
       "    }\n",
       "</style>\n",
       "<table border=\"1\" class=\"dataframe\">\n",
       "  <thead>\n",
       "    <tr style=\"text-align: right;\">\n",
       "      <th></th>\n",
       "      <th>Age in years</th>\n",
       "      <th>Gender</th>\n",
       "    </tr>\n",
       "  </thead>\n",
       "  <tbody>\n",
       "    <tr>\n",
       "      <th>0</th>\n",
       "      <td>25</td>\n",
       "      <td>Male</td>\n",
       "    </tr>\n",
       "    <tr>\n",
       "      <th>1</th>\n",
       "      <td>30</td>\n",
       "      <td>Female</td>\n",
       "    </tr>\n",
       "    <tr>\n",
       "      <th>2</th>\n",
       "      <td>35</td>\n",
       "      <td>Male</td>\n",
       "    </tr>\n",
       "    <tr>\n",
       "      <th>3</th>\n",
       "      <td>40</td>\n",
       "      <td>Female</td>\n",
       "    </tr>\n",
       "  </tbody>\n",
       "</table>\n",
       "</div>"
      ],
      "text/plain": [
       "   Age in years  Gender\n",
       "0            25    Male\n",
       "1            30  Female\n",
       "2            35    Male\n",
       "3            40  Female"
      ]
     },
     "execution_count": 8,
     "metadata": {},
     "output_type": "execute_result"
    }
   ],
   "source": [
    "df.head()"
   ]
  },
  {
   "cell_type": "code",
   "execution_count": null,
   "metadata": {
    "collapsed": false,
    "jupyter": {
     "outputs_hidden": false
    }
   },
   "outputs": [],
   "source": [
    "%%ai chatgpt\n",
    "show how to use descriptive statistic with seaborn python"
   ]
  },
  {
   "cell_type": "code",
   "execution_count": null,
   "metadata": {
    "collapsed": false,
    "jupyter": {
     "outputs_hidden": false
    }
   },
   "outputs": [],
   "source": [
    "%%ai chatgpt\n",
    "show me how import spss datasets with seaborn \n"
   ]
  },
  {
   "cell_type": "code",
   "execution_count": null,
   "metadata": {
    "collapsed": false,
    "jupyter": {
     "outputs_hidden": false
    }
   },
   "outputs": [],
   "source": [
    "%%ai chatgpt\n",
    "show how to use descriptive statistic with pandas python"
   ]
  },
  {
   "cell_type": "markdown",
   "metadata": {
    "collapsed": false,
    "jupyter": {
     "outputs_hidden": false
    }
   },
   "source": [
    "## Statistica descrittiva\n",
    "### Media\n",
    "\n",
    "> Media = Somma di tutti i valori / Numero totale di valori\n",
    "\n",
    "$[\\bar{x} = \\frac{\\sum_{i=1}^{n} x_i}{n}]$\n",
    "\n",
    "Dove:\n",
    "\n",
    "* $\\bar{x}$ rappresenta la media\n",
    "* $x_1$ rappresenta ogni valore individuale nel dataset\n",
    "* $n$ rappresenta il numero totale dei valori nel dataset\n",
    "\n",
    "La media rappresenta una misura di tendenza centrale"
   ]
  },
  {
   "cell_type": "code",
   "execution_count": null,
   "metadata": {
    "collapsed": false,
    "jupyter": {
     "outputs_hidden": false
    }
   },
   "outputs": [],
   "source": [
    "%%ai chatgpt\n",
    "devo introdurre il tuo output dentro una cella jupyter. Quindi d'ora in poi mi drovai con vertire gli output in markdown "
   ]
  },
  {
   "cell_type": "code",
   "execution_count": 9,
   "metadata": {
    "collapsed": false,
    "jupyter": {
     "outputs_hidden": false
    }
   },
   "outputs": [],
   "source": [
    "# Creazione di un dataframe\n",
    "data = {'A' : [2,12,12,19,19,20,20,20,25]}\n",
    "df = pd.DataFrame(data)"
   ]
  },
  {
   "cell_type": "code",
   "execution_count": 10,
   "metadata": {
    "collapsed": false,
    "jupyter": {
     "outputs_hidden": false
    }
   },
   "outputs": [
    {
     "name": "stdout",
     "output_type": "stream",
     "text": [
      "Media\n",
      "A    19.0\n",
      "dtype: float64\n",
      "Rank\n",
      "     A\n",
      "0  1.0\n",
      "1  2.5\n",
      "2  2.5\n",
      "3  4.5\n",
      "4  4.5\n",
      "5  7.0\n",
      "6  7.0\n",
      "7  7.0\n",
      "8  9.0\n"
     ]
    }
   ],
   "source": [
    "valori_mediani = df.median()\n",
    "print(\"Media\")\n",
    "print(valori_mediani)\n",
    "valori_rank = df.rank()\n",
    "print(\"Rank\")\n",
    "print(valori_rank)"
   ]
  },
  {
   "cell_type": "markdown",
   "metadata": {
    "collapsed": false,
    "jupyter": {
     "outputs_hidden": false
    }
   },
   "source": [
    "> Per trovare la mediana, è necessario individuare il punteggio che si trova al centro di questa classifica.\n",
    "elenco. Abbiamo nove punteggi, quindi il punteggio medio è il quinto (ha quattro punteggi sotto e quattro punteggi sopra).\n",
    "sotto e quattro sopra). La mediana è quindi 19, che è il quinto punteggio dell'elenco\n",
    "\n",
    "Nell'esempio precedente è stato facile calcolare la mediana, dato che il numero di punteggi era dispari.\n",
    "Quando si ha un numero dispari di punteggi, c'è sempre un punteggio che rappresenta la mediana. Questo\n",
    "non è così, invece, quando abbiamo un numero pari di punteggi. Se aggiungiamo il punteggio di 26 alla\n",
    "all'elenco precedente, ora abbiamo un numero pari di punteggIn questa situazione la mediana sarà compresa tra i due punteggi mediani, cioè tra il quinto e il sesto punteggio.\n",
    "quinto e sesto punteggio. La nostra mediana è, in questo caso, la media dei due punteggi in quinta e sesta posizione:\n",
    "$ (19 + 20) , 2 = 19,5$.\n",
    "sesta posizione$: (19 + 20) , 2 = 19,$5.n).n)"
   ]
  },
  {
   "cell_type": "markdown",
   "metadata": {
    "collapsed": false,
    "jupyter": {
     "outputs_hidden": false
    }
   },
   "source": [
    "La moda in statistica si riferisce al valore o ai valori che appaiono più frequentemente in un insieme di dati. La formula per calcolare la moda dipende dal tipo di dati:\n",
    "\n",
    "- Per dati nominali (categorie senza un ordine specifico), la moda è semplicemente il valore che compare più spesso.\n",
    "\n",
    "- Per dati ordinali (categorie con un ordine specifico), puoi calcolare la moda come il valore con la massima frequenza.\n",
    "\n",
    "In Python all'interno di Jupyter Notebook, puoi utilizzare la libreria `statistics` per calcolare la moda. Ad esempio:\n",
    "\n",
    "```python\n",
    "from statistics import mode\n",
    "\n",
    "data = [1, 2, 2, 3, 3, 3, 4, 4, 5]\n",
    "moda = mode(data)\n",
    "moda\n",
    "```\n",
    "\n",
    "In questo caso, il valore moda per i dati è 3. Assicurati di aver importato la libreria `statistics` prima di utilizzare la funzione `mode`."
   ]
  },
  {
   "cell_type": "code",
   "execution_count": 8,
   "metadata": {
    "collapsed": false,
    "jupyter": {
     "outputs_hidden": false
    }
   },
   "outputs": [
    {
     "name": "stdout",
     "output_type": "stream",
     "text": [
      "age\n"
     ]
    }
   ],
   "source": [
    "from statistics import mode\n",
    "\n",
    "moda = mode(data)\n",
    "print (moda)"
   ]
  },
  {
   "cell_type": "code",
   "execution_count": 9,
   "metadata": {
    "collapsed": false,
    "jupyter": {
     "outputs_hidden": false
    }
   },
   "outputs": [
    {
     "data": {
      "text/plain": [
       "['data', 'df', 'matplotlib', 'moda', 'mode', 'os', 'pd', 'variable_labels']"
      ]
     },
     "execution_count": 9,
     "metadata": {},
     "output_type": "execute_result"
    }
   ],
   "source": [
    "%who_ls"
   ]
  },
  {
   "cell_type": "code",
   "execution_count": null,
   "metadata": {
    "collapsed": false,
    "jupyter": {
     "outputs_hidden": false
    }
   },
   "outputs": [],
   "source": [
    "?del"
   ]
  },
  {
   "cell_type": "code",
   "execution_count": 10,
   "metadata": {
    "collapsed": false,
    "jupyter": {
     "outputs_hidden": false
    }
   },
   "outputs": [],
   "source": [
    "del df,data"
   ]
  },
  {
   "cell_type": "code",
   "execution_count": 11,
   "metadata": {
    "collapsed": false,
    "jupyter": {
     "outputs_hidden": false
    }
   },
   "outputs": [
    {
     "name": "stdout",
     "output_type": "stream",
     "text": [
      "19\n"
     ]
    }
   ],
   "source": [
    "data = [2,12,12,19,19,19,20,20,20,25,26]\n",
    "moda = mode(data)\n",
    "print(moda)"
   ]
  },
  {
   "cell_type": "code",
   "execution_count": 15,
   "metadata": {
    "cocalc": {
     "outputs": {
      "0": {
       "name": "input",
       "opts": {
        "password": false,
        "prompt": "Inserisci una serie di numeri separati da spazio: "
       },
       "output_type": "stream",
       "value": "1 3 4 12 12 14 18 92 92"
      }
     }
    },
    "collapsed": false,
    "jupyter": {
     "outputs_hidden": false
    }
   },
   "outputs": [
    {
     "name": "stdout",
     "output_type": "stream",
     "text": [
      "Inserisci una serie di numeri separati da spazio:  1 3 4 12 12 14 18 92 92(Moda: 12\n",
      "(Mediana: 12\n",
      "(Media: 27.555555555555557\n",
      "(Ranking: [1.  2.  3.  4.5 4.5 6.  7.  8.5 8.5]\n",
      "(Moda: 12\n",
      "(Mediana: 12\n",
      "(Media: 27.555555555555557\n",
      "(Ranking: [1.  2.  3.  4.5 4.5 6.  7.  8.5 8.5]\n"
     ]
    }
   ],
   "source": [
    "# Uno snippet che permette di inserire una serie di numeri, calcolare la moda, mediana e la media\n",
    "input_numeri = input (\"Inserisci una serie di numeri separati da spazio: \")\n",
    "data = [int(numero) for numero in input_numeri.split()]\n",
    "# Calcola la moda \n",
    "from statistics import mode\n",
    "moda = mode(data)\n",
    "# Calcola la mediana \n",
    "from statistics import median\n",
    "mediana = median(data)\n",
    "# Calcola la media\n",
    "from statistics import mean\n",
    "media = mean(data)\n",
    "# Calcola il rank\n",
    "from scipy.stats import rankdata\n",
    "ranking = rankdata(data)\n",
    "\n",
    "\n",
    "\n",
    "print(f\"(Moda: {moda}\")\n",
    "print(f\"(Mediana: {mediana}\")\n",
    "print(f\"(Media: {media}\")\n",
    "print(f\"(Ranking: {ranking}\")\n"
   ]
  },
  {
   "cell_type": "code",
   "execution_count": null,
   "metadata": {
    "collapsed": false,
    "jupyter": {
     "outputs_hidden": false
    }
   },
   "outputs": [],
   "source": [
    "%pip install --upgrade pip"
   ]
  },
  {
   "cell_type": "code",
   "execution_count": 4,
   "metadata": {
    "collapsed": false,
    "jupyter": {
     "outputs_hidden": false
    }
   },
   "outputs": [],
   "source": [
    "from statistics import median, mean, mode\n"
   ]
  },
  {
   "cell_type": "code",
   "execution_count": 5,
   "metadata": {
    "collapsed": false,
    "jupyter": {
     "outputs_hidden": false
    }
   },
   "outputs": [
    {
     "name": "stdout",
     "output_type": "stream",
     "text": [
      "Variable   Type        Data/Info\n",
      "--------------------------------\n",
      "mean       function    <function mean at 0x14a2ab7e0>\n",
      "median     function    <function median at 0x14a2aba60>\n",
      "mode       function    <function mode at 0x14a2abce0>\n"
     ]
    }
   ],
   "source": [
    "%whos"
   ]
  },
  {
   "cell_type": "code",
   "execution_count": 9,
   "metadata": {
    "collapsed": false,
    "jupyter": {
     "outputs_hidden": false
    }
   },
   "outputs": [],
   "source": [
    "data = [96 , 107,\n",
    "121 , 93,\n",
    "86 , 81,\n",
    "114 , 107,\n",
    "94 , 114 ,\n",
    "102 ,121,\n",
    "86 ,100,\n",
    "81 , 100,\n",
    "100 ,118,\n",
    "89 , 112]\n"
   ]
  },
  {
   "cell_type": "code",
   "execution_count": 10,
   "metadata": {
    "collapsed": false,
    "jupyter": {
     "outputs_hidden": false
    }
   },
   "outputs": [
    {
     "data": {
      "text/plain": [
       "[96,\n",
       " 107,\n",
       " 121,\n",
       " 93,\n",
       " 86,\n",
       " 81,\n",
       " 114,\n",
       " 107,\n",
       " 94,\n",
       " 114,\n",
       " 102,\n",
       " 121,\n",
       " 86,\n",
       " 100,\n",
       " 81,\n",
       " 100,\n",
       " 100,\n",
       " 118,\n",
       " 89,\n",
       " 112]"
      ]
     },
     "execution_count": 10,
     "metadata": {},
     "output_type": "execute_result"
    }
   ],
   "source": [
    "data"
   ]
  },
  {
   "cell_type": "code",
   "execution_count": 1,
   "metadata": {
    "collapsed": false,
    "jupyter": {
     "outputs_hidden": false
    }
   },
   "outputs": [],
   "source": [
    "import pandas as pd"
   ]
  },
  {
   "cell_type": "code",
   "execution_count": 1,
   "metadata": {
    "collapsed": false,
    "jupyter": {
     "outputs_hidden": false
    },
    "tags": []
   },
   "outputs": [],
   "source": [
    "import pandas as pd\n",
    "\n",
    "# Your dataset\n",
    "dataset = pd.DataFrame({\"walking_with_dogs\": [9, 7, 10, 12, 6, 8],\n",
    "                        \"walking_without_dogs\": [4, 5, 3, 6, 5, 1]})\n",
    "\n"
   ]
  },
  {
   "cell_type": "code",
   "execution_count": 2,
   "metadata": {
    "collapsed": false,
    "jupyter": {
     "outputs_hidden": false
    },
    "tags": []
   },
   "outputs": [
    {
     "data": {
      "text/html": [
       "<div>\n",
       "<style scoped>\n",
       "    .dataframe tbody tr th:only-of-type {\n",
       "        vertical-align: middle;\n",
       "    }\n",
       "\n",
       "    .dataframe tbody tr th {\n",
       "        vertical-align: top;\n",
       "    }\n",
       "\n",
       "    .dataframe thead th {\n",
       "        text-align: right;\n",
       "    }\n",
       "</style>\n",
       "<table border=\"1\" class=\"dataframe\">\n",
       "  <thead>\n",
       "    <tr style=\"text-align: right;\">\n",
       "      <th></th>\n",
       "      <th>walking_with_dogs</th>\n",
       "      <th>walking_without_dogs</th>\n",
       "    </tr>\n",
       "  </thead>\n",
       "  <tbody>\n",
       "    <tr>\n",
       "      <th>0</th>\n",
       "      <td>9</td>\n",
       "      <td>4</td>\n",
       "    </tr>\n",
       "    <tr>\n",
       "      <th>1</th>\n",
       "      <td>7</td>\n",
       "      <td>5</td>\n",
       "    </tr>\n",
       "    <tr>\n",
       "      <th>2</th>\n",
       "      <td>10</td>\n",
       "      <td>3</td>\n",
       "    </tr>\n",
       "    <tr>\n",
       "      <th>3</th>\n",
       "      <td>12</td>\n",
       "      <td>6</td>\n",
       "    </tr>\n",
       "    <tr>\n",
       "      <th>4</th>\n",
       "      <td>6</td>\n",
       "      <td>5</td>\n",
       "    </tr>\n",
       "    <tr>\n",
       "      <th>5</th>\n",
       "      <td>8</td>\n",
       "      <td>1</td>\n",
       "    </tr>\n",
       "  </tbody>\n",
       "</table>\n",
       "</div>"
      ],
      "text/plain": [
       "   walking_with_dogs  walking_without_dogs\n",
       "0                  9                     4\n",
       "1                  7                     5\n",
       "2                 10                     3\n",
       "3                 12                     6\n",
       "4                  6                     5\n",
       "5                  8                     1"
      ]
     },
     "execution_count": 2,
     "metadata": {},
     "output_type": "execute_result"
    }
   ],
   "source": [
    "dataset"
   ]
  },
  {
   "cell_type": "code",
   "execution_count": 3,
   "metadata": {
    "collapsed": false,
    "jupyter": {
     "outputs_hidden": false
    },
    "tags": []
   },
   "outputs": [
    {
     "name": "stdout",
     "output_type": "stream",
     "text": [
      "5% trimmed mean for walking_with_dogs:  8.666666666666666\n",
      "5% trimmed mean for walking_without_dogs:  4.0\n"
     ]
    }
   ],
   "source": [
    "from scipy.stats import trim_mean\n",
    "trimmed_mean_with_d\n",
    "trimmed_mean_without_dogs=trim_mean(dataset['walking_without_dogs'], proportiontocut=0.05)\n",
    "print(\"5% trimmed mean for walking_with_dogs: \", trimmed_mean_with_dogs)\n",
    "print(\"5% trimmed mean for walking_without_dogs: \", trimmed_mean_without_dogs)\n"
   ]
  },
  {
   "cell_type": "code",
   "execution_count": 4,
   "metadata": {
    "collapsed": false,
    "jupyter": {
     "outputs_hidden": false
    },
    "tags": []
   },
   "outputs": [
    {
     "name": "stdout",
     "output_type": "stream",
     "text": [
      "Mediana del dataset è:  walking_with_dogs       8.5\n",
      "walking_without_dogs    4.5\n",
      "dtype: float64\n",
      "La varianza è:  walking_with_dogs       4.666667\n",
      "walking_without_dogs    3.200000\n",
      "dtype: float64\n",
      "La deviazione standard è : walking_with_dogs       2.160247\n",
      "walking_without_dogs    1.788854\n",
      "dtype: float64\n",
      "Il minimo è : walking_with_dogs       6\n",
      "walking_without_dogs    1\n",
      "dtype: int64\n",
      "il range con cani è:  6 \n",
      "Il range senza cani è : 5\n",
      "La moda è:     walking_with_dogs  walking_without_dogs\n",
      "0                  6                   5.0\n",
      "1                  7                   NaN\n",
      "2                  8                   NaN\n",
      "3                  9                   NaN\n",
      "4                 10                   NaN\n",
      "5                 12                   NaN\n",
      "La skeweness con cani è:  0.46291004988627676\n",
      "la skeweness senza cani è:  -0.9433411780077239\n"
     ]
    }
   ],
   "source": [
    "import numpy as np\n",
    "from scipy.stats import skew\n",
    "median=dataset.median()\n",
    "variance=dataset.var()\n",
    "deviazione_standard=dataset.std()\n",
    "minimo=dataset.min()\n",
    "print(\"Mediana del dataset è: \", median)\n",
    "print(\"La varianza è: \", variance)\n",
    "print(\"La deviazione standard è :\", deviazione_standard)\n",
    "print(\"Il minimo è :\", minimo)\n",
    "range_con_cani=np.ptp(dataset['walking_with_dogs'])\n",
    "range_senza_cani=np.ptp(dataset['walking_without_dogs'])\n",
    "print(\"il range con cani è: \", range_con_cani, \"\\nIl range senza cani è :\" , range_senza_cani)\n",
    "moda=dataset.mode()\n",
    "print(\"La moda è: \", moda)\n",
    "skeweness_con_cani = dataset[\"walking_with_dogs\"].skew()\n",
    "skeweness_senza_cani=dataset['walking_without_dogs'].skew()\n",
    "print(\"La skeweness con cani è: \", skeweness_con_cani)\n",
    "print(\"la skeweness senza cani è: \", skeweness_senza_cani)"
   ]
  },
  {
   "cell_type": "code",
   "execution_count": 10,
   "metadata": {
    "collapsed": false,
    "jupyter": {
     "outputs_hidden": false
    }
   },
   "outputs": [
    {
     "data": {
      "image/png": "[encoded data removed]",
      "text/plain": [
       "<Figure size 640x480 with 1 Axes>"
      ]
     },
     "metadata": {},
     "output_type": "display_data"
    }
   ],
   "source": [
    "%matplotlib inline \n",
    "import numpy as np\n",
    "\n",
    "import matplotlib.pyplot as plt\n",
    "\n",
    "# Compute areas and colors\n",
    "N = 150\n",
    "r = 2 * np.random.rand(N)\n",
    "theta = 2 * np.pi * np.random.rand(N)\n",
    "area = 200 * r**2\n",
    "colors = theta\n",
    "\n",
    "ax = plt.subplot(111, projection='polar')\n",
    "c = ax.scatter(theta, r, c=colors, s=area, cmap='hsv', alpha=0.75)"
   ]
  },
  {
   "cell_type": "code",
   "execution_count": null,
   "metadata": {
    "collapsed": false,
    "jupyter": {
     "outputs_hidden": false
    }
   },
   "outputs": [],
   "source": []
  }
 ],
 "metadata": {
  "kernelspec": {
   "display_name": "Python 3 (Spyder)",
   "language": "python3",
   "name": "python3"
  },
  "language_info": {
   "codemirror_mode": {
    "name": "ipython",
    "version": 3
   },
   "file_extension": ".py",
   "mimetype": "text/x-python",
   "name": "python",
   "nbconvert_exporter": "python",
   "pygments_lexer": "ipython3",
   "version": "3.11.7"
  },
  "name": "Statistica_Python.ipynb"
 },
 "nbformat": 4,
 "nbformat_minor": 4
}
